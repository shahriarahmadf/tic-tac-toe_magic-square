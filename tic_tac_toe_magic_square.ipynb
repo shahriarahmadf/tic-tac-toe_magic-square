{
  "nbformat": 4,
  "nbformat_minor": 0,
  "metadata": {
    "colab": {
      "provenance": []
    },
    "kernelspec": {
      "name": "python3",
      "display_name": "Python 3"
    },
    "language_info": {
      "name": "python"
    }
  },
  "cells": [
    {
      "cell_type": "code",
      "execution_count": 3,
      "metadata": {
        "id": "RMTmQbaL57RY"
      },
      "outputs": [],
      "source": [
        "def board(state=[' ',' ',' ',' ',' ',' ',' ',' ',' ']):\n",
        "\n",
        "  print(f' {state[0]} | {state[1]} | {state[2]} ')\n",
        "  print('___________')\n",
        "  print(f' {state[3]} | {state[4]} | {state[5]} ')\n",
        "  print('___________')\n",
        "  print(f' {state[6]} | {state[7]} | {state[8]} ')\n",
        "  print('\\n')"
      ]
    },
    {
      "cell_type": "code",
      "source": [
        "def game(player,state):\n",
        "\n",
        "  moves_available = []\n",
        "  # check which moves are available\n",
        "  for key,value in enumerate(state):\n",
        "    if value == ' ':\n",
        "      moves_available.append(key+1)\n",
        "\n",
        "  # only allow available moves\n",
        "  while (True):\n",
        "    move = int(input(f'Player {player} move is '))\n",
        "    if move in moves_available:\n",
        "      break\n",
        "    else:\n",
        "      print('Invalid move. Please try again.')\n",
        "\n",
        "  # save move of the player into the state variable\n",
        "  if player == 1:\n",
        "    state[move-1] = 'x'\n",
        "  elif player == 2:\n",
        "    state[move-1] = 'o'\n",
        "  return state"
      ],
      "metadata": {
        "id": "gx7DtxyGKfVi"
      },
      "execution_count": 4,
      "outputs": []
    },
    {
      "cell_type": "code",
      "source": [
        "def is_winner(scores):\n",
        "\n",
        "  # in case of less than 3 elements -> not win yet\n",
        "  if len(scores) < 3:\n",
        "    return False\n",
        "\n",
        "  # check for each three combinations in the array\n",
        "  for i in range(len(scores) - 2):\n",
        "    for j in range(i+1, len(scores) - 1):\n",
        "      for k in range(j+1, len(scores)):\n",
        "        # if sum == 15\n",
        "        if scores[i] + scores[j] + scores[k] == 15:\n",
        "          return True\n",
        "  # when all moves on board have been made -> total 9 moves\n",
        "  # first player move has to be 5 and second player -> 4\n",
        "  # so after first player already has mad 5 moves\n",
        "  # and yet no winner found, it must be a DRAW -> return None\n",
        "  if len(scores) == 5:\n",
        "    return None\n",
        "  return False"
      ],
      "metadata": {
        "id": "Zt8ySZ6kXFS1"
      },
      "execution_count": 5,
      "outputs": []
    },
    {
      "cell_type": "code",
      "source": [
        "def calculate_winner(state, player):\n",
        "\n",
        "  # magic square of 3: magic number = 15\n",
        "  magic_square = [2,7,6,\n",
        "                  9,5,1,\n",
        "                  4,3,8]\n",
        "\n",
        "  positions = []\n",
        "  if player == 1:\n",
        "    mark = 'x'\n",
        "  elif player == 2:\n",
        "    mark = 'o'\n",
        "\n",
        "  # for the current player, we find the positions in the board where he moved\n",
        "  # and save the indices into positions\n",
        "  for index,value in enumerate(state):\n",
        "      if value == mark:\n",
        "        positions.append(index)\n",
        "\n",
        "  # save equivalent scores for the player's positions taken from the magic square\n",
        "  scores = []\n",
        "  for x in positions:\n",
        "    scores.append(magic_square[x])\n",
        "\n",
        "  # return if the player is a winner by checking if any three values = 15\n",
        "  return is_winner(scores)"
      ],
      "metadata": {
        "id": "BvwmZAcqT2bn"
      },
      "execution_count": 6,
      "outputs": []
    },
    {
      "cell_type": "code",
      "source": [
        "def play_game(state):\n",
        "\n",
        "  winner = False\n",
        "  # previous player is player 2\n",
        "  next_player = 2\n",
        "\n",
        "  while winner == False:\n",
        "\n",
        "    # switch player\n",
        "    next_player = 2 if next_player == 1 else 1\n",
        "\n",
        "    # play the game one turn and save game position in state variable\n",
        "    state = game(next_player, state)\n",
        "\n",
        "    # print the board\n",
        "    board(state)\n",
        "\n",
        "    # check if winner condition has been reached\n",
        "    winner = calculate_winner(state, next_player)\n",
        "  if winner == None:\n",
        "    print('Match DRAW')\n",
        "  else:\n",
        "    print(f'Winner is Player {next_player}')"
      ],
      "metadata": {
        "id": "v1uw5yld6E5c"
      },
      "execution_count": 7,
      "outputs": []
    },
    {
      "cell_type": "code",
      "source": [
        "# play the game\n",
        "play_game(state=[' ',' ',' ',' ',' ',' ',' ',' ',' '])"
      ],
      "metadata": {
        "id": "ZWSNLoTBKebf",
        "colab": {
          "base_uri": "https://localhost:8080/"
        },
        "outputId": "cc610cd5-c31a-4b2e-ace5-f7a168f93d93"
      },
      "execution_count": 9,
      "outputs": [
        {
          "output_type": "stream",
          "name": "stdout",
          "text": [
            "Player 1 move is 1\n",
            " x |   |   \n",
            "___________\n",
            "   |   |   \n",
            "___________\n",
            "   |   |   \n",
            "\n",
            "\n",
            "Player 2 move is 3\n",
            " x |   | o \n",
            "___________\n",
            "   |   |   \n",
            "___________\n",
            "   |   |   \n",
            "\n",
            "\n",
            "Player 1 move is 7\n",
            " x |   | o \n",
            "___________\n",
            "   |   |   \n",
            "___________\n",
            " x |   |   \n",
            "\n",
            "\n",
            "Player 2 move is 4\n",
            " x |   | o \n",
            "___________\n",
            " o |   |   \n",
            "___________\n",
            " x |   |   \n",
            "\n",
            "\n",
            "Player 1 move is 9\n",
            " x |   | o \n",
            "___________\n",
            " o |   |   \n",
            "___________\n",
            " x |   | x \n",
            "\n",
            "\n",
            "Player 2 move is 5\n",
            " x |   | o \n",
            "___________\n",
            " o | o |   \n",
            "___________\n",
            " x |   | x \n",
            "\n",
            "\n",
            "Player 1 move is 8\n",
            " x |   | o \n",
            "___________\n",
            " o | o |   \n",
            "___________\n",
            " x | x | x \n",
            "\n",
            "\n",
            "Winner is Player 1\n"
          ]
        }
      ]
    },
    {
      "cell_type": "code",
      "source": [],
      "metadata": {
        "id": "UamSmIdAYOCJ"
      },
      "execution_count": null,
      "outputs": []
    }
  ]
}